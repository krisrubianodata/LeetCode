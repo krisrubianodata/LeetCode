{
 "cells": [
  {
   "cell_type": "markdown",
   "metadata": {},
   "source": [
    "<h4>35. Search Insert Position</h4>\n",
    "\n",
    "<p>Given a sorted array of distinct integers and a target value, return the index if the target is found. If not, return the index where it would be if it were inserted in order.</p>\n",
    "\n",
    "<p>You must write an algorithm with <code>O(log n)</code> runtime complexity.</p>\n",
    "\n",
    "<p><strong>Example 1:</strong></p>\n",
    "<pre><strong>Input:</strong> nums = [1,3,5,6], target = 5\n",
    "<strong>Output:</strong> 2</pre>\n",
    "\n",
    "<p><strong>Example 2:</strong></p>\n",
    "<pre><strong>Input:</strong> nums = [1,3,5,6], target = 2\n",
    "<strong>Output:</strong> 1</pre>\n",
    "\n",
    "<p><strong>Example 3:</strong></p>\n",
    "<pre><strong>Input:</strong> nums = [1,3,5,6], target = 7\n",
    "<strong>Output:</strong> 4</pre>\n",
    "\n",
    "<p><strong>Constraints:</strong></p>\n",
    "<ul>\n",
    "\t<li><code>1 &lt;= nums.length &lt;= 10<sup>4</sup></code></li>\n",
    "\t<li><code>-10<sup>4</sup> &lt;= nums[i] &lt;= 10<sup>4</sup></code></li>\n",
    "\t<li><code>nums</code> contains <strong>distinct</strong> values sorted in <strong>ascending</strong> order.</li>\n",
    "\t<li><code>-10<sup>4</sup> &lt;= target &lt;= 10<sup>4</sup></code></li>\n",
    "</ul>\n",
    "\n",
    "<p>&nbsp;</p>\n",
    "<small>Copyright ©️ 2024 LeetCode All rights reserved</small>"
   ]
  }
 ],
 "metadata": {
  "language_info": {
   "name": "python"
  }
 },
 "nbformat": 4,
 "nbformat_minor": 2
}
