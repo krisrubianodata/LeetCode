{
 "cells": [
  {
   "cell_type": "code",
   "execution_count": null,
   "metadata": {},
   "outputs": [],
   "source": [
    "class Solution:\n",
    "    def searchInsert(self, nums: List[int], target: int) -> int:\n",
    "        n = len(nums)\n",
    "        first = 0\n",
    "        last = n - 1\n",
    "\n",
    "        while first <= last:\n",
    "            i = (first + last) // 2\n",
    "\n",
    "            if nums[i] < target:\n",
    "                first = i + 1\n",
    "            elif nums[i] > target:\n",
    "                end = i - 1\n",
    "            else:\n",
    "                return i\n",
    "    \n",
    "    if nums[i] < target:\n",
    "        return i + 1\n",
    "    else:\n",
    "        return i"
   ]
  }
 ],
 "metadata": {
  "language_info": {
   "name": "python"
  }
 },
 "nbformat": 4,
 "nbformat_minor": 2
}
