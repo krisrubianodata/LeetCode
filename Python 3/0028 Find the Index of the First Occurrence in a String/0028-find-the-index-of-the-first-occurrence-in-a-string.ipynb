{
 "cells": [
  {
   "cell_type": "code",
   "execution_count": null,
   "metadata": {},
   "outputs": [],
   "source": [
    "class Solution:\n",
    "    def strStr(self, haystack: str, needle: str) -> int:\n",
    "        for i in range(len(haystack) - len(needle) + 1):\n",
    "            if haystack[i:i + len(needle)] == needle:\n",
    "                return i\n",
    "        return -1"
   ]
  }
 ],
 "metadata": {
  "language_info": {
   "name": "python"
  }
 },
 "nbformat": 4,
 "nbformat_minor": 2
}
