{
 "cells": [
  {
   "cell_type": "markdown",
   "metadata": {},
   "source": [
    "<h4>28. Find the Index of the First Occurrence in a String</h4>\n",
    "\n",
    "<p>Given two strings <code>needle</code> and <code>haystack</code>, return the index of the first occurrence of <code>needle</code> in <code>haystack</code>, or <code>-1</code> if <code>needle</code> is not part of <code>haystack</code>.</p>\n",
    "\n",
    "<p><strong>Example 1:</strong></p>\n",
    "<pre>\n",
    "<strong>Input:</strong> haystack = \"sadbutsad\", needle = \"sad\"\n",
    "<strong>Output:</strong> 0\n",
    "<strong>Explanation:</strong> \"sad\" occurs at index 0 and 6.\n",
    "The first occurrence is at index 0, so we return 0.\n",
    "</pre>\n",
    "\n",
    "<p><strong>Example 2:</strong></p>\n",
    "<pre>\n",
    "<strong>Input:</strong> haystack = \"leetcode\", needle = \"leeto\"\n",
    "<strong>Output:</strong> -1\n",
    "<strong>Explanation:</strong> \"leeto\" did not occur in \"leetcode\", so we return -1.\n",
    "</pre>\n",
    "\n",
    "<p><strong>Constraints:</strong></p>\n",
    "<ul>\n",
    "\t<li><code>1 &lt;= haystack.length, needle.length &lt;= 10<sup>4</sup></code></li>\n",
    "\t<li><code>haystack</code> and <code>needle</code> consist of only lowercase English characters.</li>\n",
    "</ul>\n",
    "\n",
    "<p>&nbsp;</p>\n",
    "<small>Copyright ©️ 2024 LeetCode All rights reserved</small>"
   ]
  }
 ],
 "metadata": {
  "language_info": {
   "name": "python"
  }
 },
 "nbformat": 4,
 "nbformat_minor": 2
}
