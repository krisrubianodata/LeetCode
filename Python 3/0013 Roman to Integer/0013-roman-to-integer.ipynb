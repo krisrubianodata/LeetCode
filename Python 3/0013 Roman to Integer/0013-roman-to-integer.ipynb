{
 "cells": [
  {
   "cell_type": "code",
   "execution_count": null,
   "metadata": {},
   "outputs": [],
   "source": [
    "class Solution:\n",
    "    def romanToInt(self, s: str) -> int:\n",
    "        roman = {\"I\": 1, \"V\": 5, \"X\": 10, \"L\": 50, \"C\": 100, \"D\": 500, \"M\": 1000}\n",
    "        convert = {\"IV\": \"IIII\", \"IX\": \"VIIII\", \"XL\": \"XXXX\", \"XC\": \"LXXXX\", \"CD\": \"CCCC\", \"CM\": \"DCCCC\"}\n",
    "        for k, v in convert.items():\n",
    "            s = s.replace(k, v)\n",
    "        return sum([roman[numeral] for numeral in s])"
   ]
  }
 ],
 "metadata": {
  "language_info": {
   "name": "python"
  }
 },
 "nbformat": 4,
 "nbformat_minor": 2
}
