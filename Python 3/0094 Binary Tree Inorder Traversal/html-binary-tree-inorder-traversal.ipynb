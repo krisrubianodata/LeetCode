{
 "cells": [
  {
   "cell_type": "markdown",
   "metadata": {},
   "source": [
    "<h4>94. Binary Tree Inorder Traversal</h4>\n",
    "\n",
    "<p>Given the <code>root</code> of a binary tree, return <em>the inorder traversal of its nodes' values</em>.</p>\n",
    "\n",
    "<p>&nbsp;</p>\n",
    "<p><strong>Example 1:</strong></p>\n",
    "<p><strong>Input:</strong> root = [1,null,2,3]</p>\n",
    "<p><strong>Output:</strong> [1,3,2]</p>\n",
    "<p><strong>Explanation:</strong></p>\n",
    "<p><img alt=\"\" src=\"https://assets.leetcode.com/uploads/2024/08/29/screenshot-2024-08-29-202743.png\" style=\"width: 200px; height: 264px;\"></p>\n",
    "\n",
    "<p>&nbsp;</p>\n",
    "<p><strong>Example 2:</strong></p>\n",
    "<p><strong>Input:</strong> root = [1,2,3,4,5,null,8,null,null,6,7,9]</p>\n",
    "<p><strong>Output:</strong> [4,2,6,5,7,1,3,9,8]</p>\n",
    "<p><strong>Explanation:</strong></p>\n",
    "<p><img alt=\"\" src=\"https://assets.leetcode.com/uploads/2024/08/29/tree_2.png\" style=\"width: 350px; height: 286px;\"></p>\n",
    "\n",
    "<p>&nbsp;</p>\n",
    "<p><strong>Example 3:</strong></p>\n",
    "<p><strong>Input:</strong> root = []</p>\n",
    "<p><strong>Output:</strong>[]</p>\n",
    "\n",
    "<p>&nbsp;</p>\n",
    "<p><strong>Example 4:</strong></p>\n",
    "<p><strong>Input:</strong> root = [1]</p>\n",
    "<p><strong>Output:</strong>[1]</p>\n",
    "\n",
    "<p>&nbsp;</p>\n",
    "<p><strong>Constraints:</strong></p>\n",
    "<ul>\n",
    "\t<li>The number of nodes in the tree is in the range <code>[0, 100]</code>.</li>\n",
    "\t<li><code>-100 &lt;= Node.val &lt;= 100</code></li>\n",
    "</ul>\n",
    "\n",
    "<p>&nbsp;</p>\n",
    "<strong>Follow-up:</strong> Recursive solution is trivial, could you do it iteratively?\n",
    "\n",
    "<p>&nbsp;</p>\n",
    "<small>Copyright ©️ 2024 LeetCode All rights reserved</small>"
   ]
  }
 ],
 "metadata": {
  "language_info": {
   "name": "python"
  }
 },
 "nbformat": 4,
 "nbformat_minor": 2
}
