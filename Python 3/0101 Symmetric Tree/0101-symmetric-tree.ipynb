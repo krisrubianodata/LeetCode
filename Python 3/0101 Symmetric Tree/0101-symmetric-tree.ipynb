{
 "cells": [
  {
   "cell_type": "code",
   "execution_count": null,
   "metadata": {},
   "outputs": [],
   "source": [
    "# Definition for a binary tree node.\n",
    "# class TreeNode:\n",
    "#     def __init__(self, val=0, left=None, right=None):\n",
    "#         self.val = val\n",
    "#         self.left = left\n",
    "#         self.right = right\n",
    "class Solution:\n",
    "    def isSymmetric(self, root: Optional[TreeNode]) -> bool:\n",
    "        def sym(root1, root2):\n",
    "            if not root1 and not root2:\n",
    "                return True\n",
    "            \n",
    "            if not root1 or not root2:\n",
    "                return False\n",
    "            \n",
    "            if root1.val != root2.val:\n",
    "                return False\n",
    "            \n",
    "            return sym(root1.left, root2.right) and sym(root1.right, root2.left)\n",
    "\n",
    "        return sym(root, root)"
   ]
  }
 ],
 "metadata": {
  "language_info": {
   "name": "python"
  }
 },
 "nbformat": 4,
 "nbformat_minor": 2
}
