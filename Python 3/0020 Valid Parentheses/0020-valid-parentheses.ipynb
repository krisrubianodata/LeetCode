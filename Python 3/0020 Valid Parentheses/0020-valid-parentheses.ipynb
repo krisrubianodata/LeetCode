{
 "cells": [
  {
   "cell_type": "code",
   "execution_count": null,
   "metadata": {},
   "outputs": [],
   "source": [
    "class Solution:\n",
    "    def isValid(self, s: str) -> bool:\n",
    "\n",
    "        h = {\"(\":\")\", \"{\":\"}\", \"[\":\"]\"}\n",
    "        stack = []\n",
    "\n",
    "        for symbol in s:\n",
    "            if symbol in h.keys():\n",
    "                stack.append(symbol)\n",
    "            elif stack == [] or symbol != h[stack.pop()]\n",
    "                return False\n",
    "\n",
    "        return open == []"
   ]
  }
 ],
 "metadata": {
  "language_info": {
   "name": "python"
  }
 },
 "nbformat": 4,
 "nbformat_minor": 2
}
