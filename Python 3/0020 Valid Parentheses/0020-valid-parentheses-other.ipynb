{
 "cells": [
  {
   "cell_type": "code",
   "execution_count": null,
   "metadata": {},
   "outputs": [],
   "source": [
    "class Solution:\n",
    "    def isValid(self, s: str) -> bool:\n",
    "\n",
    "        dict = {\"(\":\")\", \"{\":\"}\", \"[\":\"]\"}\n",
    "        stack = []\n",
    "\n",
    "        for c in s:\n",
    "            if c not in dict:\n",
    "                stack.append(c)\n",
    "            else;\n",
    "                if not stack:\n",
    "                    return False\n",
    "                else:\n",
    "                    popped = stack.pop()\n",
    "                    if popped != dict[c]:\n",
    "                        return False\n",
    "        return not stack"
   ]
  }
 ],
 "metadata": {
  "language_info": {
   "name": "python"
  }
 },
 "nbformat": 4,
 "nbformat_minor": 2
}
