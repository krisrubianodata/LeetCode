{
 "cells": [
  {
   "cell_type": "code",
   "execution_count": null,
   "metadata": {},
   "outputs": [],
   "source": [
    "# Definition for a binary tree node.\n",
    "# class TreeNode:\n",
    "#     def __init__(self, val=0, left=None, right=None):\n",
    "#         self.val = val\n",
    "#         self.left = left\n",
    "#         self.right = right\n",
    "class Solution:\n",
    "    def mergeTrees(self, root1: Optional[TreeNode], root2: Optional[TreeNode]) -> Optional[TreeNode]:\n",
    "        if not root1:\n",
    "            return root2\n",
    "        \n",
    "        if not root2:\n",
    "            return root1\n",
    "        \n",
    "        root1.val = root1.val + root2.val\n",
    "        root1.left = self.mergeTrees(root1.left, root2.left)\n",
    "        root1.right = self.mergeTrees(root1.right, root2.right)\n",
    "\n",
    "        return root1"
   ]
  }
 ],
 "metadata": {
  "language_info": {
   "name": "python"
  }
 },
 "nbformat": 4,
 "nbformat_minor": 2
}
