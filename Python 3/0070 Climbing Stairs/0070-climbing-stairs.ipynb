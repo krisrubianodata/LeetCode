{
 "cells": [
  {
   "cell_type": "code",
   "execution_count": null,
   "metadata": {},
   "outputs": [],
   "source": [
    "class Solution:\n",
    "    def climbStairs(self, n: int) -> int:\n",
    "        memo = {1:1, 2:2}\n",
    "        def f(n):\n",
    "        if n in memo:\n",
    "            return memo[n]\n",
    "        else:\n",
    "            memo[n] = f(n-2) + f(n-1)\n",
    "            return memo[n]\n",
    "        \n",
    "        return f(n)"
   ]
  }
 ],
 "metadata": {
  "language_info": {
   "name": "python"
  }
 },
 "nbformat": 4,
 "nbformat_minor": 2
}
