{
 "cells": [
  {
   "cell_type": "markdown",
   "metadata": {},
   "source": [
    "<h4>119. Pascal's Triangle II</h4>\n",
    "\n",
    "<p>Given an integer <code>rowIndex</code>, return the <code>rowIndex<sup>th</sup></code> (<strong>0-indexed</strong>) row of the <strong>Pascal's triangle</strong>.</p>\n",
    "\n",
    "<p>In <strong>Pascal's triangle</strong>, each number is the sum of the two numbers directly above it as shown:</p>\n",
    "\n",
    "<img alt=\"\" src=\"https://upload.wikimedia.org/wikipedia/commons/0/0d/PascalTriangleAnimated2.gif\" style=\"height: 240px; width: 260px;\">\n",
    "\n",
    "<p>&nbsp;</p>\n",
    "<p><strong>Example 1:</strong></p>\n",
    "<pre><strong>Input:</strong> rowIndex = 3\n",
    "<strong>Output:</strong> [1,3,3,1]\n",
    "</pre>\n",
    "\n",
    "<p><strong>Example 2:</strong></p>\n",
    "<pre><strong>Input:</strong> rowIndex = 0\n",
    "<strong>Output:</strong> [1]\n",
    "</pre>\n",
    "\n",
    "<p><strong>Example 3:</strong></p>\n",
    "<pre><strong>Input:</strong> rowIndex = 1\n",
    "<strong>Output:</strong> [1,1]\n",
    "</pre>\n",
    "\n",
    "<p>&nbsp;</p>\n",
    "<p><strong>Constraints:</strong></p>\n",
    "<ul>\n",
    "\t<li><code>0 &lt;= rowIndex &lt;= 33</code></li>\n",
    "</ul>\n",
    "\n",
    "<p>&nbsp;</p>\n",
    "<p><strong>Follow up:</strong> Could you optimize your algorithm to use only <code>O(rowIndex)</code> extra space?</p>\n",
    "\n",
    "<p>&nbsp;</p>\n",
    "<small>Copyright ©️ 2024 LeetCode All rights reserved</small>"
   ]
  }
 ],
 "metadata": {
  "language_info": {
   "name": "python"
  }
 },
 "nbformat": 4,
 "nbformat_minor": 2
}
