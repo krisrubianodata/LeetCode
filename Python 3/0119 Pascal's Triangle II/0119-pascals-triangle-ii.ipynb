{
 "cells": [
  {
   "cell_type": "code",
   "execution_count": null,
   "metadata": {},
   "outputs": [],
   "source": [
    "class Solution:\n",
    "    def getRow(self, rowIndex: int) -> List[int]:\n",
    "        currentrow = [1] * (rowIndex + 1)\n",
    "\n",
    "        if rowIndex < 2:\n",
    "            return currentrow\n",
    "        \n",
    "        previousrow = self.getRow(rowIndex - 1)\n",
    "        for i in range(1, rowIndex):\n",
    "            currentrow[i] = previousrow[i] + previousrow[i-1]\n",
    "            \n",
    "        return currentrow"
   ]
  }
 ],
 "metadata": {
  "language_info": {
   "name": "python"
  }
 },
 "nbformat": 4,
 "nbformat_minor": 2
}
