{
 "cells": [
  {
   "cell_type": "code",
   "execution_count": null,
   "metadata": {},
   "outputs": [],
   "source": [
    "# Definition for a binary tree node.\n",
    "# class TreeNode:\n",
    "#     def __init__(self, val=0, left=None, right=None):\n",
    "#         self.val = val\n",
    "#         self.left = left\n",
    "#         self.right = right\n",
    "class Solution:\n",
    "    def hasPathSum(self, root: Optional[TreeNode], targetSum: int) -> bool:\n",
    "        def addition(root, currentsum):\n",
    "            if not root:\n",
    "                return False\n",
    "            \n",
    "            currentsum += root.val\n",
    "\n",
    "            if not root.left and not root.right:\n",
    "                return currentsum == targetSum\n",
    "            \n",
    "            return addition(root.left, currentsum) or addition(root.right, currentsum)\n",
    "        \n",
    "        return addition(root, 0)"
   ]
  }
 ],
 "metadata": {
  "language_info": {
   "name": "python"
  }
 },
 "nbformat": 4,
 "nbformat_minor": 2
}
