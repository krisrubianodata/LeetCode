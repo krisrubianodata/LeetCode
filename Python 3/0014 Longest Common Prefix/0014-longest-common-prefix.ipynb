{
 "cells": [
  {
   "cell_type": "code",
   "execution_count": null,
   "metadata": {},
   "outputs": [],
   "source": [
    "class Solution:\n",
    "    def longestCommonPrefix(self, strs: List[str]) -> str:\n",
    "        if len(strs) == 0:\n",
    "            return(\"\")\n",
    "        if len(strs) == 1:\n",
    "            return(str[0])\n",
    "        \n",
    "        prefix = strs[0]\n",
    "        prefixlen = len(pref)\n",
    "\n",
    "        for string in strs[1:]:\n",
    "            while prefix != string[0:prefixlen]:\n",
    "                prefix = prefix[0:(prefixlen - 1)]\n",
    "                prefixlen -= 1\n",
    "\n",
    "                if prefixlen == 0:\n",
    "                    return(\"\")\n",
    "                \n",
    "        return(prefix)"
   ]
  }
 ],
 "metadata": {
  "language_info": {
   "name": "python"
  }
 },
 "nbformat": 4,
 "nbformat_minor": 2
}
