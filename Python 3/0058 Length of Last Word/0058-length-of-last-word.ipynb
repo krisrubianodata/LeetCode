{
 "cells": [
  {
   "cell_type": "code",
   "execution_count": null,
   "metadata": {},
   "outputs": [],
   "source": [
    "class Solution:\n",
    "    def lengthOfLastWord(self, s: str) -> int:\n",
    "        words = s.split()\n",
    "        \n",
    "        if not words:\n",
    "            return 0\n",
    "        \n",
    "        return len(words[-1])"
   ]
  }
 ],
 "metadata": {
  "language_info": {
   "name": "python"
  }
 },
 "nbformat": 4,
 "nbformat_minor": 2
}
