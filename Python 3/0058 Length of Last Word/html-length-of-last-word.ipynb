{
 "cells": [
  {
   "cell_type": "markdown",
   "metadata": {},
   "source": [
    "<h4>58. Length of Last Word</h4>\n",
    "\n",
    "<p>Given a string <code>s</code> consisting of words and spaces, return <em>the length of the <strong>last</strong> word in the string.</em></p>\n",
    "\n",
    "<p>A <strong>word</strong> is a maximal substring consisting of non-space characters only.</p>\n",
    "\n",
    "<p>&nbsp;</p>\n",
    "<p><strong>Example 1:</strong></p>\n",
    "\n",
    "<pre><strong>Input:</strong> s = \"Hello World\"\n",
    "<strong>Output:</strong> 5\n",
    "<strong>Explanation:</strong> The last word is \"World\" with length 5.\n",
    "</pre>\n",
    "\n",
    "<p><strong>Example 2:</strong></p>\n",
    "\n",
    "<pre><strong>Input:</strong> s = \"   fly me   to   the moon  \"\n",
    "<strong>Output:</strong> 4\n",
    "<strong>Explanation:</strong> The last word is \"moon\" with length 4.\n",
    "</pre>\n",
    "\n",
    "<p><strong>Example 3:</strong></p>\n",
    "\n",
    "<pre><strong>Input:</strong> s = \"luffy is still joyboy\"\n",
    "<strong>Output:</strong> 6\n",
    "<strong>Explanation:</strong> The last word is \"joyboy\" with length 6.\n",
    "</pre>\n",
    "\n",
    "<p>&nbsp;</p>\n",
    "<p><strong>Constraints:</strong></p>\n",
    "\n",
    "<ul>\n",
    "\t<li><code>1 &lt;= s.length &lt;= 10<sup>4</sup></code></li>\n",
    "\t<li><code>s</code> consists of only English letters and spaces <code>' '</code>.</li>\n",
    "\t<li>There will be at least one word in <code>s</code>.</li>\n",
    "</ul>\n",
    "\n",
    "<p>&nbsp;</p>\n",
    "<small>Copyright ©️ 2024 LeetCode All rights reserved</small>"
   ]
  }
 ],
 "metadata": {
  "language_info": {
   "name": "python"
  }
 },
 "nbformat": 4,
 "nbformat_minor": 2
}
