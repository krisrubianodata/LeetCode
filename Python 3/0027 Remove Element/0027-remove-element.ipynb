{
 "cells": [
  {
   "cell_type": "code",
   "execution_count": null,
   "metadata": {},
   "outputs": [],
   "source": [
    "class Solution:\n",
    "    def removeElement(self, nums: List[int], val: int) -> int:\n",
    "        i = 0\n",
    "        n = len(nums)\n",
    "\n",
    "        while i < n:\n",
    "            if nums[i] == val:\n",
    "                nums[i] = nums[n-1]\n",
    "                n -= 1\n",
    "            else:\n",
    "                i += 1\n",
    "\n",
    "        return n"
   ]
  }
 ],
 "metadata": {
  "language_info": {
   "name": "python"
  }
 },
 "nbformat": 4,
 "nbformat_minor": 2
}
