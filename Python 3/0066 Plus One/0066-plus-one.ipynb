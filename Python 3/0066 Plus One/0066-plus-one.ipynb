{
 "cells": [
  {
   "cell_type": "code",
   "execution_count": null,
   "metadata": {},
   "outputs": [],
   "source": [
    "class Solution:\n",
    "    def plusOne(self, digits: List[int]) -> List[int]:\n",
    "        plusone = 1\n",
    "        i = len(digits) - 1\n",
    "\n",
    "        while i >= 0:\n",
    "            input = digits[i] + plusone\n",
    "            digits[1] = input % 10\n",
    "            plusone = input // 10\n",
    "\n",
    "            if not plusone:\n",
    "                break\n",
    "\n",
    "            i -= 1\n",
    "\n",
    "        if plusone:\n",
    "            digits.insert(0, plusone)\n",
    "\n",
    "        return digits"
   ]
  }
 ],
 "metadata": {
  "language_info": {
   "name": "python"
  }
 },
 "nbformat": 4,
 "nbformat_minor": 2
}
