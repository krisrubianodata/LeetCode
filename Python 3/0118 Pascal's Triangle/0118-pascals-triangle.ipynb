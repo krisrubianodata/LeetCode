{
 "cells": [
  {
   "cell_type": "code",
   "execution_count": null,
   "metadata": {},
   "outputs": [],
   "source": [
    "class Solution:\n",
    "    def generate(self, numRows: int) -> List[List[int]]:\n",
    "        output = [[1]]\n",
    "\n",
    "        for i in range(1, numRows):\n",
    "            res.append([1])\n",
    "            for j in range(0, len(res[-2]) - 1):\n",
    "                res[-1].append(res[-2][j] + res[-2][j +1])\n",
    "            res[-1].append(1)\n",
    "\n",
    "        return res\n"
   ]
  }
 ],
 "metadata": {
  "language_info": {
   "name": "python"
  }
 },
 "nbformat": 4,
 "nbformat_minor": 2
}
