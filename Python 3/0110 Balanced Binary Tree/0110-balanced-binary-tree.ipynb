{
 "cells": [
  {
   "cell_type": "code",
   "execution_count": null,
   "metadata": {},
   "outputs": [],
   "source": [
    "# Definition for a binary tree node.\n",
    "# class TreeNode:\n",
    "#     def __init__(self, val=0, left=None, right=None):\n",
    "#         self.val = val\n",
    "#         self.left = left\n",
    "#         self.right = right\n",
    "class Solution:\n",
    "    def isBalanced(self, root: Optional[TreeNode]) -> bool:\n",
    "        balanced = [True]\n",
    "\n",
    "        def height(root):\n",
    "            if not root:\n",
    "                return 0\n",
    "            \n",
    "            leftheight = height(root.left)\n",
    "            if balanced[0] is False:\n",
    "                return 0\n",
    "            \n",
    "            rightheight = height(root.right)\n",
    "\n",
    "            if abs(leftheight - rightheight) > 1:\n",
    "                balanced[0] = False\n",
    "                return 0\n",
    "            \n",
    "            return 1 + max(leftheight, rightheight)\n",
    "        \n",
    "        height(root)\n",
    "        return balanced[0]"
   ]
  }
 ],
 "metadata": {
  "language_info": {
   "name": "python"
  }
 },
 "nbformat": 4,
 "nbformat_minor": 2
}
