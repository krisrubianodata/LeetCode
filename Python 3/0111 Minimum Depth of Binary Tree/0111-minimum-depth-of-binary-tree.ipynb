{
 "cells": [
  {
   "cell_type": "code",
   "execution_count": null,
   "metadata": {},
   "outputs": [],
   "source": [
    "# Definition for a binary tree node.\n",
    "# class TreeNode:\n",
    "#     def __init__(self, val=0, left=None, right=None):\n",
    "#         self.val = val\n",
    "#         self.left = left\n",
    "#         self.right = right\n",
    "class Solution:\n",
    "    def minDepth(self, root: Optional[TreeNode]) -> int:\n",
    "        if not root:\n",
    "            return 0\n",
    "        \n",
    "        self.minimumdepth = float(\"inf\")\n",
    "        self.dfs(root, 0)\n",
    "        return self.minimumdepth\n",
    "    \n",
    "    def dfs(self, node, currentdepth):\n",
    "        if not node:\n",
    "            return\n",
    "        \n",
    "        if not node.left and not node.right:\n",
    "            self.minimumdepth = min(self.minimumdepth, currentdepth + 1)\n",
    "\n",
    "        self.dfs(node.left, currentdepth + 1)\n",
    "        self.dfs(node.right, currentdepth + 1)"
   ]
  }
 ],
 "metadata": {
  "language_info": {
   "name": "python"
  }
 },
 "nbformat": 4,
 "nbformat_minor": 2
}
