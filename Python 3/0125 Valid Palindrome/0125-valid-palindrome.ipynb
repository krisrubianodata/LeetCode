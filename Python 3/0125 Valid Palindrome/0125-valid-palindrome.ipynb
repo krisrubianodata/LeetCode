{
 "cells": [
  {
   "cell_type": "code",
   "execution_count": null,
   "metadata": {},
   "outputs": [],
   "source": [
    "class Solution:\n",
    "    def isPalindrome(self, s: str) -> bool:\n",
    "        i = len(s)\n",
    "        first = 0\n",
    "        last = n - 1\n",
    "\n",
    "        while first < last:\n",
    "            if not s[first].isalnum():\n",
    "                first += 1\n",
    "                continue\n",
    "            \n",
    "            if not s[last].isalnum():\n",
    "                last -= 1\n",
    "                continue\n",
    "\n",
    "            if s[first].lower() != s[last].lower():\n",
    "                return False\n",
    "            \n",
    "            first += 1\n",
    "            last -= 1\n",
    "\n",
    "        return True"
   ]
  }
 ],
 "metadata": {
  "language_info": {
   "name": "python"
  }
 },
 "nbformat": 4,
 "nbformat_minor": 2
}
