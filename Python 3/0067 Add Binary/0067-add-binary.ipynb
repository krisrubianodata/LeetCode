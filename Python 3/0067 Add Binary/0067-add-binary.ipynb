{
 "cells": [
  {
   "cell_type": "code",
   "execution_count": null,
   "metadata": {},
   "outputs": [],
   "source": [
    "class Solution:\n",
    "    def addBinary(self, a: str, b: str) -> str:\n",
    "        a, b = int(a, 2), int(b, 2)\n",
    "\n",
    "        while b:\n",
    "            n = a ^ b\n",
    "            y = (a & b) << 1\n",
    "            a, b = n, y\n",
    "\n",
    "        return bin(a)[2:]"
   ]
  }
 ],
 "metadata": {
  "language_info": {
   "name": "python"
  }
 },
 "nbformat": 4,
 "nbformat_minor": 2
}
