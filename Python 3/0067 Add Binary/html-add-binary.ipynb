{
 "cells": [
  {
   "cell_type": "markdown",
   "metadata": {},
   "source": [
    "<h4>67. Add Binary</h4>\n",
    "\n",
    "<p>Given two binary strings <code>a</code> and <code>b</code>, return <em>their sum as a binary string</em>.</p>\n",
    "\n",
    "<p><strong>Example 1:</strong></p>\n",
    "\n",
    "<pre><strong>Input:</strong> a = \"11\", b = \"1\"\n",
    "<strong>Output:</strong> \"100\"\n",
    "</pre>\n",
    "\n",
    "<p><strong>Example 2:</strong></p>\n",
    "\n",
    "<pre><strong>Input:</strong> a = \"1010\", b = \"1011\"\n",
    "<strong>Output:</strong> \"10101\"\n",
    "</pre>\n",
    "\n",
    "<p><strong>Constraints:</strong></p>\n",
    "<ul>\n",
    "\t<li><code>1 &lt;= a.length, b.length &lt;= 10<sup>4</sup></code></li>\n",
    "\t<li><code>a</code> and <code>b</code> consist&nbsp;only of <code>'0'</code> or <code>'1'</code> characters.</li>\n",
    "\t<li>Each string does not contain leading zeros except for the zero itself.</li>\n",
    "</ul>\n",
    "\n",
    "<small>Copyright ©️ 2024 LeetCode All rights reserved</small>"
   ]
  }
 ],
 "metadata": {
  "language_info": {
   "name": "python"
  }
 },
 "nbformat": 4,
 "nbformat_minor": 2
}
