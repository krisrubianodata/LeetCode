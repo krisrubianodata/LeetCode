{
 "cells": [
  {
   "cell_type": "code",
   "execution_count": null,
   "metadata": {},
   "outputs": [],
   "source": [
    "class Solution:\n",
    "    def merge(self, nums1: List[int], m: int, nums2: List[int], n: int) -> None:\n",
    "        \"\"\"\n",
    "        Do not return anything, modify nums1 in-place instead.\n",
    "        \"\"\"\n",
    "        \n",
    "        x, y = m-1, n-1\n",
    "\n",
    "        for z in range(m + n - 1, -1, -1):\n",
    "            if x < 0:\n",
    "                nums1[z] = nums2[y]\n",
    "                y -= 1\n",
    "            elif y < 0:\n",
    "                break\n",
    "            elif nums1[x] > nums2[y]:\n",
    "                nums1[z] = nums1[x]\n",
    "                x -= 1\n",
    "            else:\n",
    "                 nums1[z] = nums2[y]\n",
    "                 y -= 1"
   ]
  }
 ],
 "metadata": {
  "language_info": {
   "name": "python"
  }
 },
 "nbformat": 4,
 "nbformat_minor": 2
}
