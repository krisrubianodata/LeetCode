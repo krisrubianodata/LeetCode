{
 "cells": [
  {
   "cell_type": "code",
   "execution_count": null,
   "metadata": {},
   "outputs": [],
   "source": [
    "import pandas as pd\n",
    "import datetime as dt\n",
    "\n",
    "def rising_temperature(weather: pd.DataFrame) -> pd.DataFrame:\n",
    "    w = weather.sort_values(by=\"recordDate\", ascending=True)\n",
    "    w[\"tempdiff\"] = w[\"temperature\"].diff()\n",
    "    w[\"datediff\"] = w[\"recordDate\"].diff().dt.days\n",
    "    return w[(w[\"tempdiff\"] > 0) & (w[\"datediff\"] == 1)]"
   ]
  }
 ],
 "metadata": {
  "kernelspec": {
   "display_name": "kris_data",
   "language": "python",
   "name": "python3"
  },
  "language_info": {
   "codemirror_mode": {
    "name": "ipython",
    "version": 3
   },
   "file_extension": ".py",
   "mimetype": "text/x-python",
   "name": "python",
   "nbconvert_exporter": "python",
   "pygments_lexer": "ipython3",
   "version": "3.10.13"
  }
 },
 "nbformat": 4,
 "nbformat_minor": 2
}
